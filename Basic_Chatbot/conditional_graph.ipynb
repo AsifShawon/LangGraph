{
 "cells": [
  {
   "cell_type": "code",
   "execution_count": 39,
   "id": "3ddd380a",
   "metadata": {},
   "outputs": [],
   "source": [
    "from typing import TypedDict\n",
    "from langgraph.graph import StateGraph, START, END"
   ]
  },
  {
   "cell_type": "code",
   "execution_count": 40,
   "id": "117b0af1",
   "metadata": {},
   "outputs": [],
   "source": [
    "class AgentState(TypedDict):\n",
    "    n1: int\n",
    "    n2: int\n",
    "    n3: int\n",
    "    n4: int\n",
    "    operation: str\n",
    "    operation2: str\n",
    "    final_result0: int\n",
    "    final_result1: int"
   ]
  },
  {
   "cell_type": "code",
   "execution_count": 41,
   "id": "fff594c9",
   "metadata": {},
   "outputs": [],
   "source": [
    "def add_node(state: AgentState) -> AgentState:\n",
    "    \"\"\"1st add node -> n1+n2\"\"\"   \n",
    "    # print(\"FR0\", state['final_result0']) \n",
    "    state['final_result0'] = state['n1'] + state['n2']\n",
    "    # print(\"FR0\", state['final_result0']) \n",
    "    return state\n",
    "\n",
    "def sub_node(state: AgentState) -> AgentState:\n",
    "    \"\"\"1st sub node -> n1-n2\"\"\"\n",
    "    state['final_result0'] = state['n1'] - state['n2']\n",
    "    return state\n",
    "\n",
    "def add_node2(state: AgentState) -> AgentState:\n",
    "    \"\"\"2nd add node -> n3+n4\"\"\"\n",
    "    state['final_result1'] = state['n3'] + state['n4']\n",
    "    return state\n",
    "\n",
    "def sub_node2(state: AgentState) -> AgentState:\n",
    "    \"\"\"2nd sub node -> n3-n4\"\"\"\n",
    "    state['final_result1'] = state['n3'] - state['n4']\n",
    "    return state\n",
    "\n",
    "def decide_node(state: AgentState) -> AgentState:\n",
    "    \"\"\"Decide which operation to perform\"\"\"\n",
    "    \n",
    "    if state['operation'] == '+':\n",
    "        return \"add\"\n",
    "    elif state['operation'] == '-':\n",
    "        return \"sub\"\n",
    "    \n",
    "def decide_node2(state: AgentState) -> AgentState:\n",
    "    \"\"\"Decide which operation to perform\"\"\"\n",
    "    \n",
    "    if state['operation2'] == '+':\n",
    "        return \"add2\"\n",
    "    elif state['operation2'] == '-':\n",
    "        return \"sub2\"\n"
   ]
  },
  {
   "cell_type": "code",
   "execution_count": 42,
   "id": "939cbc43",
   "metadata": {},
   "outputs": [],
   "source": [
    "graph = StateGraph(AgentState)\n",
    "\n",
    "# added nodes\n",
    "graph.add_node(\"add_node\", add_node)\n",
    "graph.add_node(\"sub_node\", sub_node)\n",
    "graph.add_node(\"add_node2\", add_node2)\n",
    "graph.add_node(\"sub_node2\", sub_node2)\n",
    "graph.add_node(\"router\", lambda state:state)\n",
    "graph.add_node(\"router2\", lambda state:state)\n",
    "\n",
    "# starting node\n",
    "graph.add_edge(START, \"router\")\n",
    "\n",
    "graph.add_conditional_edges(\n",
    "    \"router\",\n",
    "    decide_node,\n",
    "    {\n",
    "        \"add\": \"add_node\",\n",
    "        \"sub\": \"sub_node\"\n",
    "    }\n",
    ")\n",
    "\n",
    "graph.add_edge(\"add_node\", \"router2\")\n",
    "graph.add_edge(\"sub_node\", \"router2\")\n",
    "\n",
    "graph.add_conditional_edges(\n",
    "    \"router2\",\n",
    "    decide_node2,\n",
    "    {\n",
    "        \"add2\": \"add_node2\",\n",
    "        \"sub2\": \"sub_node2\"\n",
    "    }\n",
    ")\n",
    "\n",
    "graph.add_edge(\"add_node2\", END)\n",
    "graph.add_edge(\"sub_node2\", END)\n",
    "\n",
    "app = graph.compile()"
   ]
  },
  {
   "cell_type": "code",
   "execution_count": 43,
   "id": "d3202c7d",
   "metadata": {},
   "outputs": [
    {
     "data": {
      "image/png": "[encoded data removed]",
      "text/plain": [
       "<IPython.core.display.Image object>"
      ]
     },
     "metadata": {},
     "output_type": "display_data"
    }
   ],
   "source": [
    "from IPython.display import Image, display\n",
    "display(Image(app.get_graph().draw_mermaid_png()))"
   ]
  },
  {
   "cell_type": "code",
   "execution_count": 44,
   "id": "c18ef15a",
   "metadata": {},
   "outputs": [
    {
     "data": {
      "text/plain": [
       "{'n1': 10,\n",
       " 'n2': 5,\n",
       " 'n3': 7,\n",
       " 'n4': 2,\n",
       " 'operation': '-',\n",
       " 'operation2': '+',\n",
       " 'final_result0': 5,\n",
       " 'final_result1': 9}"
      ]
     },
     "execution_count": 44,
     "metadata": {},
     "output_type": "execute_result"
    }
   ],
   "source": [
    "initial_state = AgentState(n1 = 10, n2 = 5, operation='-', n3 = 7, n4 = 2, operation2='+', final_result0=0, final_result1=0)\n",
    "app.invoke(initial_state)"
   ]
  }
 ],
 "metadata": {
  "kernelspec": {
   "display_name": ".venv",
   "language": "python",
   "name": "python3"
  },
  "language_info": {
   "codemirror_mode": {
    "name": "ipython",
    "version": 3
   },
   "file_extension": ".py",
   "mimetype": "text/x-python",
   "name": "python",
   "nbconvert_exporter": "python",
   "pygments_lexer": "ipython3",
   "version": "3.11.9"
  }
 },
 "nbformat": 4,
 "nbformat_minor": 5
}
