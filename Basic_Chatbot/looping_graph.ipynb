{
 "cells": [
  {
   "cell_type": "code",
   "execution_count": 78,
   "id": "b735e725",
   "metadata": {},
   "outputs": [],
   "source": [
    "from langgraph.graph import StateGraph, START, END\n",
    "import random\n",
    "from typing import Dict, List, TypedDict"
   ]
  },
  {
   "cell_type": "code",
   "execution_count": 79,
   "id": "0e133387",
   "metadata": {},
   "outputs": [],
   "source": [
    "from unittest import result\n",
    "\n",
    "\n",
    "class AgentState(TypedDict):\n",
    "    player: str\n",
    "    target: int\n",
    "    guesses: List[int]\n",
    "    current_guess: int\n",
    "    attempts: int\n",
    "    lower: int\n",
    "    higher: int\n",
    "    result: str"
   ]
  },
  {
   "cell_type": "code",
   "execution_count": 80,
   "id": "3d4051f9",
   "metadata": {},
   "outputs": [],
   "source": [
    "def setup(state: AgentState) -> AgentState:\n",
    "    \"\"\"Starting of the Automatic higher lower game\"\"\"\n",
    "    \n",
    "    print(f\"Hello! {state['player']}, Welcome to the game\")\n",
    "    state['target'] = random.randint(state['lower'], state['higher'])\n",
    "    print(f\"Target : {state['target']}\")\n",
    "    state['attempts'] = 0\n",
    "    state['result'] = \"no\"\n",
    "    \n",
    "    return state\n",
    "\n",
    "def guess(state: AgentState) -> AgentState:\n",
    "    \"\"\"Guess the number\"\"\"\n",
    "    \n",
    "    state['current_guess'] = random.randint(state['lower'], state['higher'])\n",
    "    print(f\"Guessed : {state['current_guess']}\")\n",
    "    state['attempts'] += 1\n",
    "    state['guesses'].append(state['current_guess'])\n",
    "    \n",
    "    return state\n",
    "\n",
    "def hint(state: AgentState) -> AgentState:\n",
    "    \"\"\"Give a hint based on the guess\"\"\"\n",
    "\n",
    "    if state['current_guess'] < state['target']:\n",
    "        state['lower'] = state['current_guess']\n",
    "        print(f\"Higer than {state['current_guess']}\")\n",
    "    elif state['current_guess'] > state['target']:\n",
    "        state['higher'] = state['current_guess']\n",
    "        print(f\"Lower than {state['current_guess']}\")\n",
    "    else:\n",
    "        print(f\"Correct! You guessed the number in {state['attempts']} attempts\")\n",
    "        state['result'] = \"yes\"\n",
    "    \n",
    "    return state\n",
    "        \n",
    "def should_continue(state: AgentState) -> AgentState:\n",
    "    \"\"\"Check if the user wants to continue\"\"\"\n",
    "    \n",
    "    if state['result'] == \"no\" and state['attempts'] < 7:\n",
    "        print(\"Guees Again\")\n",
    "        return \"loop\"\n",
    "    elif state['result'] == \"yes\":\n",
    "        print(f\"You guessed the number in {state['attempts']} attempts\")\n",
    "        return \"end\"\n",
    "    else:\n",
    "        print(\"You lost the game\")\n",
    "        return \"end\""
   ]
  },
  {
   "cell_type": "code",
   "execution_count": 81,
   "id": "ff4034e4",
   "metadata": {},
   "outputs": [],
   "source": [
    "graph = StateGraph(AgentState)\n",
    "\n",
    "graph.add_node(\"setup\", setup)\n",
    "graph.add_node(\"guess\", guess)\n",
    "graph.add_node(\"hint\", hint)\n",
    "\n",
    "graph.add_edge(START, \"setup\")\n",
    "graph.add_edge(\"setup\", \"guess\")\n",
    "graph.add_edge(\"guess\", \"hint\")\n",
    "\n",
    "graph.add_conditional_edges(\n",
    "    \"hint\",\n",
    "    should_continue,\n",
    "    {\n",
    "        \"loop\": \"guess\",\n",
    "        \"end\": END\n",
    "    }\n",
    ")\n",
    "\n",
    "app = graph.compile()"
   ]
  },
  {
   "cell_type": "code",
   "execution_count": 82,
   "id": "b4100316",
   "metadata": {},
   "outputs": [
    {
     "data": {
      "image/png": "[encoded data removed]",
      "text/plain": [
       "<IPython.core.display.Image object>"
      ]
     },
     "metadata": {},
     "output_type": "display_data"
    }
   ],
   "source": [
    "from IPython.display import Image, display\n",
    "display(Image(app.get_graph().draw_mermaid_png()))"
   ]
  },
  {
   "cell_type": "code",
   "execution_count": 83,
   "id": "541aec28",
   "metadata": {},
   "outputs": [
    {
     "name": "stdout",
     "output_type": "stream",
     "text": [
      "Hello! John, Welcome to the game\n",
      "Target : 9\n",
      "Guessed : 18\n",
      "Lower than 18\n",
      "Guees Again\n",
      "Guessed : 5\n",
      "Higer than 5\n",
      "Guees Again\n",
      "Guessed : 15\n",
      "Lower than 15\n",
      "Guees Again\n",
      "Guessed : 13\n",
      "Lower than 13\n",
      "Guees Again\n",
      "Guessed : 5\n",
      "Higer than 5\n",
      "Guees Again\n",
      "Guessed : 11\n",
      "Lower than 11\n",
      "Guees Again\n",
      "Guessed : 9\n",
      "Correct! You guessed the number in 7 attempts\n",
      "You guessed the number in 7 attempts\n"
     ]
    },
    {
     "data": {
      "text/plain": [
       "{'player': 'John',\n",
       " 'target': 9,\n",
       " 'guesses': [18, 5, 15, 13, 5, 11, 9],\n",
       " 'current_guess': 9,\n",
       " 'attempts': 7,\n",
       " 'lower': 5,\n",
       " 'higher': 11,\n",
       " 'result': 'yes'}"
      ]
     },
     "execution_count": 83,
     "metadata": {},
     "output_type": "execute_result"
    }
   ],
   "source": [
    "initial_state = AgentState(\n",
    "    player = \"John\",\n",
    "    traget = 0,\n",
    "    guesses = [],\n",
    "    current_guess = 0,\n",
    "    attempts = 0,\n",
    "    lower = 0,\n",
    "    higher = 20,\n",
    ")\n",
    "\n",
    "app.invoke(initial_state)"
   ]
  }
 ],
 "metadata": {
  "kernelspec": {
   "display_name": ".venv",
   "language": "python",
   "name": "python3"
  },
  "language_info": {
   "codemirror_mode": {
    "name": "ipython",
    "version": 3
   },
   "file_extension": ".py",
   "mimetype": "text/x-python",
   "name": "python",
   "nbconvert_exporter": "python",
   "pygments_lexer": "ipython3",
   "version": "3.11.9"
  }
 },
 "nbformat": 4,
 "nbformat_minor": 5
}
