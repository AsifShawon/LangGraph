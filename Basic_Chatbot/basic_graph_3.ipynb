{
 "cells": [
  {
   "cell_type": "code",
   "execution_count": 16,
   "id": "9c14d0c3",
   "metadata": {},
   "outputs": [],
   "source": [
    "from typing import TypedDict, List\n",
    "from langgraph.graph import StateGraph"
   ]
  },
  {
   "cell_type": "code",
   "execution_count": 17,
   "id": "b79dc305",
   "metadata": {},
   "outputs": [],
   "source": [
    "class AgentState(TypedDict):\n",
    "    name: str\n",
    "    age: int\n",
    "    skills: List[str]\n",
    "    result: str"
   ]
  },
  {
   "cell_type": "code",
   "execution_count": 18,
   "id": "8b8b3bbf",
   "metadata": {},
   "outputs": [],
   "source": [
    "def name_node(state: AgentState) -> AgentState:\n",
    "    \"\"\"1st node -> name\"\"\"\n",
    "    \n",
    "    state['result'] = f\"{state['name']}, Welcome to the system! \"\n",
    "    \n",
    "    return state\n",
    "\n",
    "def age_node(state: AgentState) -> AgentState:\n",
    "    \"\"\"2nd node -> age\"\"\"\n",
    "    \n",
    "    state['result'] += f\"You are {state['age']} years old! \"\n",
    "    \n",
    "    return state\n",
    "\n",
    "def skills_node(state: AgentState) -> AgentState:\n",
    "    \"\"\"3rd node -> skills\"\"\"\n",
    "    \n",
    "    state['result'] += f\"You have skills in : {', '.join(state['skills'])}\"\n",
    "    \n",
    "    return state"
   ]
  },
  {
   "cell_type": "code",
   "execution_count": 19,
   "id": "7bc660b0",
   "metadata": {},
   "outputs": [],
   "source": [
    "graph = StateGraph(AgentState)\n",
    "\n",
    "graph.add_node(\"name\", name_node)\n",
    "graph.add_node(\"age\", age_node)\n",
    "graph.add_node(\"skills\", skills_node)\n",
    "\n",
    "graph.set_entry_point(\"name\")\n",
    "graph.add_edge(\"name\",\"age\")\n",
    "graph.add_edge(\"age\",\"skills\")\n",
    "graph.set_finish_point(\"skills\")\n",
    "\n",
    "app = graph.compile()"
   ]
  },
  {
   "cell_type": "code",
   "execution_count": null,
   "id": "bc8d12ac",
   "metadata": {},
   "outputs": [
    {
     "data": {
      "text/plain": [
       "{'name': 'John',\n",
       " 'age': 30,\n",
       " 'skills': ['Python', 'SQL'],\n",
       " 'result': 'John, Welcome to the system! You are 30 years old! You have skills in : Python, SQL'}"
      ]
     },
     "execution_count": 20,
     "metadata": {},
     "output_type": "execute_result"
    },
    {
     "ename": "",
     "evalue": "",
     "output_type": "error",
     "traceback": [
      "\u001b[1;31mThe Kernel crashed while executing code in the current cell or a previous cell. \n",
      "\u001b[1;31mPlease review the code in the cell(s) to identify a possible cause of the failure. \n",
      "\u001b[1;31mClick <a href='https://aka.ms/vscodeJupyterKernelCrash'>here</a> for more info. \n",
      "\u001b[1;31mView Jupyter <a href='command:jupyter.viewOutput'>log</a> for further details."
     ]
    }
   ],
   "source": [
    "result = app.invoke({\"name\": \"John\", \"age\": 30, \"skills\": [\"Python\", \"SQL\"]})\n",
    "\n",
    "result"
   ]
  }
 ],
 "metadata": {
  "kernelspec": {
   "display_name": ".venv",
   "language": "python",
   "name": "python3"
  },
  "language_info": {
   "codemirror_mode": {
    "name": "ipython",
    "version": 3
   },
   "file_extension": ".py",
   "mimetype": "text/x-python",
   "name": "python",
   "nbconvert_exporter": "python",
   "pygments_lexer": "ipython3",
   "version": "3.11.9"
  }
 },
 "nbformat": 4,
 "nbformat_minor": 5
}
