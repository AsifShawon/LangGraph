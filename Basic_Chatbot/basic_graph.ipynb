{
 "cells": [
  {
   "cell_type": "markdown",
   "id": "803eea05",
   "metadata": {},
   "source": [
    "<!-- # Hello Worl Agent -->"
   ]
  },
  {
   "cell_type": "markdown",
   "id": "fe60c4b8",
   "metadata": {},
   "source": [
    "### First Langgraph"
   ]
  },
  {
   "cell_type": "code",
   "execution_count": 12,
   "id": "d2e58217",
   "metadata": {},
   "outputs": [],
   "source": [
    "from typing import Dict, TypedDict\n",
    "from langgraph.graph import StateGraph"
   ]
  },
  {
   "cell_type": "code",
   "execution_count": 13,
   "id": "2d21222c",
   "metadata": {},
   "outputs": [],
   "source": [
    "class AgentState(TypedDict):\n",
    "    message: str\n",
    "    \n",
    "def greeting(state: AgentState) -> AgentState:\n",
    "    \"\"\"Simple node that adds message to the state\"\"\"\n",
    "    \n",
    "    state['message'] = \"Hey \" + state['message'] + \", How are you?\"\n",
    "    \n",
    "    return state\n"
   ]
  },
  {
   "cell_type": "code",
   "execution_count": 14,
   "id": "06f56ca4",
   "metadata": {},
   "outputs": [],
   "source": [
    "graph = StateGraph(AgentState) # StateGraph is a class that takes in the AgentState as an argument\n",
    "\n",
    "graph.add_node(\"greeter\", greeting) # greeter is our node name -> greeting is our function\n",
    "\n",
    "# Starting and Ending point\n",
    "graph.set_entry_point(\"greeter\")\n",
    "graph.set_finish_point(\"greeter\")\n",
    "\n",
    "app = graph.compile()"
   ]
  },
  {
   "cell_type": "code",
   "execution_count": 16,
   "id": "46a796b3",
   "metadata": {},
   "outputs": [
    {
     "data": {
      "text/plain": [
       "'Hey Blob, How are you?'"
      ]
     },
     "execution_count": 16,
     "metadata": {},
     "output_type": "execute_result"
    }
   ],
   "source": [
    "result = app.invoke({\"message\":\"Blob\"})\n",
    "\n",
    "result['message']"
   ]
  }
 ],
 "metadata": {
  "kernelspec": {
   "display_name": ".venv",
   "language": "python",
   "name": "python3"
  },
  "language_info": {
   "codemirror_mode": {
    "name": "ipython",
    "version": 3
   },
   "file_extension": ".py",
   "mimetype": "text/x-python",
   "name": "python",
   "nbconvert_exporter": "python",
   "pygments_lexer": "ipython3",
   "version": "3.11.9"
  }
 },
 "nbformat": 4,
 "nbformat_minor": 5
}
